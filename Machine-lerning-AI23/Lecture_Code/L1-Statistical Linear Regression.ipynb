{
 "cells": [
  {
   "cell_type": "code",
   "execution_count": 6,
   "metadata": {},
   "outputs": [],
   "source": [
    "import numpy as np\n",
    "import scipy.stats as stats\n"
   ]
  },
  {
   "cell_type": "code",
   "execution_count": 15,
   "metadata": {},
   "outputs": [
    {
     "name": "stdout",
     "output_type": "stream",
     "text": [
      "-19.350271769594475 = [  1.          -0.58434432  -6.89632658 -14.32356028   0.        ]\n",
      "-19.34576439920819 = [  1.          -0.58434432  -6.89632658 -14.32356028   0.        ]\n",
      "-19.34576439920819 = [  1.          -0.58434432  -6.89632658 -14.32356028   0.        ]\n",
      "-13.48477830320871 = [  1.           1.24250647  -5.06947579 -11.5832841    0.        ]\n",
      "-13.48701508317948 = [  1.           1.24250647  -5.06947579 -11.5832841    0.        ]\n",
      "-13.503633333783831 = [  1.           1.24250647  -5.06947579 -11.5832841    0.        ]\n",
      "-13.431395073455182 = [  1.           1.24250647  -5.06947579 -11.5832841    1.        ]\n",
      "-13.44696414997021 = [  1.           1.24250647  -5.06947579 -11.5832841    1.        ]\n",
      "-13.458032240161268 = [  1.           1.24250647  -5.06947579 -11.5832841    1.        ]\n",
      "-17.82583838981178 = [  1.          -0.58434432  -6.45368247 -14.32356028   0.        ]\n",
      "-17.856834850183112 = [  1.          -0.58434432  -6.45368247 -14.32356028   0.        ]\n",
      "-17.719296328421095 = [  1.          -0.58434432  -6.45368247 -14.32356028   0.        ]\n",
      "-13.742750560611984 = [  1.           0.66268797  -5.20665018 -12.45301184   0.        ]\n",
      "-13.689765194975655 = [  1.           0.66268797  -5.20665018 -12.45301184   0.        ]\n",
      "-13.615443643444346 = [  1.           0.66268797  -5.20665018 -12.45301184   0.        ]\n",
      "-13.605224137610861 = [  1.           0.60976557  -5.20665018 -12.45301184   0.        ]\n",
      "-13.754789439329937 = [  1.           0.60976557  -5.20665018 -12.45301184   0.        ]\n",
      "-13.768226334002179 = [  1.           0.60976557  -5.20665018 -12.45301184   0.        ]\n",
      "-13.672967487582532 = [  1.           0.55388511  -5.20665018 -12.45301184   0.        ]\n",
      "-13.828488527545241 = [  1.           0.55388511  -5.20665018 -12.45301184   0.        ]\n",
      "-13.806004686967444 = [  1.           0.55388511  -5.20665018 -12.45301184   0.        ]\n",
      "-13.778440927411896 = [  1.           0.49469624  -5.20665018 -12.45301184   0.        ]\n",
      "-13.79457030934178 = [  1.           0.49469624  -5.20665018 -12.45301184   0.        ]\n",
      "-13.895772189850748 = [  1.           0.49469624  -5.20665018 -12.45301184   0.        ]\n",
      "-13.795569809674864 = [  1.           0.43178242  -5.20665018 -12.45301184   0.        ]\n",
      "-13.955838456937903 = [  1.           0.43178242  -5.20665018 -12.45301184   0.        ]\n",
      "-13.890789167082323 = [  1.           0.43178242  -5.20665018 -12.45301184   0.        ]\n",
      "-13.860358049879784 = [  1.           0.36464311  -5.20665018 -12.45301184   0.        ]\n",
      "-13.95711423852706 = [  1.           0.36464311  -5.20665018 -12.45301184   0.        ]\n",
      "-14.016913540485222 = [  1.           0.36464311  -5.20665018 -12.45301184   0.        ]\n",
      "-13.920321514647341 = [  1.           0.29266961  -5.20665018 -12.45301184   0.        ]\n",
      "-13.952855288307493 = [  1.           0.29266961  -5.20665018 -12.45301184   0.        ]\n",
      "-14.069547009296008 = [  1.           0.29266961  -5.20665018 -12.45301184   0.        ]\n",
      "-13.640836209399739 = [  1.           0.66268797  -5.20665018 -12.45301184   1.        ]\n",
      "-13.558847975820711 = [  1.           0.66268797  -5.20665018 -12.45301184   1.        ]\n",
      "-13.707377097639403 = [  1.           0.66268797  -5.20665018 -12.45301184   1.        ]\n",
      "-13.619025736826849 = [  1.           0.60976557  -5.20665018 -12.45301184   1.        ]\n",
      "-13.857075514693177 = [  1.           0.60976557  -5.20665018 -12.45301184   1.        ]\n",
      "-13.619025736826849 = [  1.           0.60976557  -5.20665018 -12.45301184   1.        ]\n",
      "-13.713360253916237 = [  1.           0.55388511  -5.20665018 -12.45301184   1.        ]\n",
      "-13.750618421812598 = [  1.           0.55388511  -5.20665018 -12.45301184   1.        ]\n",
      "-13.85189537596105 = [  1.           0.55388511  -5.20665018 -12.45301184   1.        ]\n",
      "-13.778440927411896 = [  1.           0.49469624  -5.20665018 -12.45301184   1.        ]\n",
      "-13.731097886386207 = [  1.           0.49469624  -5.20665018 -12.45301184   1.        ]\n",
      "-13.941264688492584 = [  1.           0.49469624  -5.20665018 -12.45301184   1.        ]\n",
      "-13.772835817195775 = [  1.           0.43178242  -5.20665018 -12.45301184   1.        ]\n",
      "-13.921643391905256 = [  1.           0.43178242  -5.20665018 -12.45301184   1.        ]\n",
      "-13.919880500307228 = [  1.           0.43178242  -5.20665018 -12.45301184   1.        ]\n",
      "-13.867820771081373 = [  1.           0.36464311  -5.20665018 -12.45301184   1.        ]\n",
      "-13.882123206349641 = [  1.           0.36464311  -5.20665018 -12.45301184   1.        ]\n",
      "-14.020110985255712 = [  1.           0.36464311  -5.20665018 -12.45301184   1.        ]\n",
      "-13.89033493132616 = [  1.           0.29266961  -5.20665018 -12.45301184   1.        ]\n",
      "-13.949863193747817 = [  1.           0.29266961  -5.20665018 -12.45301184   1.        ]\n",
      "-14.033980833119863 = [  1.           0.29266961  -5.20665018 -12.45301184   1.        ]\n",
      "-17.488091521178298 = [  1.          -0.590075    -6.34244147 -14.33215629   0.        ]\n",
      "-17.446461292130955 = [  1.          -0.590075    -6.34244147 -14.33215629   0.        ]\n",
      "-17.420869047882768 = [  1.          -0.590075    -6.34244147 -14.33215629   0.        ]\n",
      "-17.773418384319562 = [  1.          -0.6429974   -6.34244147 -14.33215629   0.        ]\n",
      "-17.817450654470065 = [  1.          -0.6429974   -6.34244147 -14.33215629   0.        ]\n",
      "-17.640162562357695 = [  1.          -0.6429974   -6.34244147 -14.33215629   0.        ]\n",
      "-13.679650759590444 = [  1.           0.54935929  -5.20300719 -12.62300487   0.        ]\n",
      "-13.729751981120394 = [  1.           0.54935929  -5.20300719 -12.62300487   0.        ]\n",
      "-13.724070147652963 = [  1.           0.54935929  -5.20300719 -12.62300487   0.        ]\n",
      "-13.706828341218456 = [  1.           0.49643689  -5.20300719 -12.62300487   0.        ]\n",
      "-13.800160281010676 = [  1.           0.49643689  -5.20300719 -12.62300487   0.        ]\n",
      "-13.761810475635809 = [  1.           0.49643689  -5.20300719 -12.62300487   0.        ]\n",
      "-13.740319180544043 = [  1.           0.44055643  -5.20300719 -12.62300487   0.        ]\n",
      "-13.824933386215893 = [  1.           0.44055643  -5.20300719 -12.62300487   0.        ]\n",
      "-13.719071922324169 = [  1.           0.44055643  -5.20300719 -12.62300487   0.        ]\n",
      "-13.778811905205139 = [  1.           0.38136756  -5.20300719 -12.62300487   0.        ]\n",
      "-13.812623544994407 = [  1.           0.38136756  -5.20300719 -12.62300487   0.        ]\n",
      "-13.886126006987334 = [  1.           0.38136756  -5.20300719 -12.62300487   0.        ]\n",
      "-13.770007242839988 = [  1.           0.31845373  -5.20300719 -12.62300487   0.        ]\n",
      "-13.829430663310788 = [  1.           0.31845373  -5.20300719 -12.62300487   0.        ]\n",
      "-14.006932933668795 = [  1.           0.31845373  -5.20300719 -12.62300487   0.        ]\n",
      "-13.816527258474881 = [  1.           0.25131443  -5.20300719 -12.62300487   0.        ]\n",
      "-13.956853694232233 = [  1.           0.25131443  -5.20300719 -12.62300487   0.        ]\n",
      "-14.018672662949317 = [  1.           0.25131443  -5.20300719 -12.62300487   0.        ]\n",
      "-13.99938979445433 = [  1.           0.17934093  -5.20300719 -12.62300487   0.        ]\n",
      "-14.096222979294012 = [  1.           0.17934093  -5.20300719 -12.62300487   0.        ]\n",
      "-14.010683272915838 = [  1.           0.17934093  -5.20300719 -12.62300487   0.        ]\n",
      "-13.695166401470614 = [  1.           0.54935929  -5.20300719 -12.62300487   1.        ]\n",
      "-13.703925581560496 = [  1.           0.54935929  -5.20300719 -12.62300487   1.        ]\n",
      "-13.663133867589531 = [  1.           0.54935929  -5.20300719 -12.62300487   1.        ]\n",
      "-13.814577306605802 = [  1.           0.44055643  -5.20300719 -12.62300487   1.        ]\n",
      "-13.757686758451948 = [  1.           0.44055643  -5.20300719 -12.62300487   1.        ]\n",
      "-13.81197144193902 = [  1.           0.44055643  -5.20300719 -12.62300487   1.        ]\n",
      "-13.775434664575354 = [  1.           0.38136756  -5.20300719 -12.62300487   1.        ]\n",
      "-13.767282445513803 = [  1.           0.38136756  -5.20300719 -12.62300487   1.        ]\n",
      "-13.897568468478006 = [  1.           0.38136756  -5.20300719 -12.62300487   1.        ]\n",
      "-13.96360287620716 = [  1.           0.31845373  -5.20300719 -12.62300487   1.        ]\n",
      "-13.915961155463068 = [  1.           0.31845373  -5.20300719 -12.62300487   1.        ]\n",
      "-13.931709512431206 = [  1.           0.31845373  -5.20300719 -12.62300487   1.        ]\n",
      "-13.976412853659435 = [  1.           0.25131443  -5.20300719 -12.62300487   1.        ]\n",
      "-13.895170385793994 = [  1.           0.25131443  -5.20300719 -12.62300487   1.        ]\n",
      "-13.916548872200526 = [  1.           0.25131443  -5.20300719 -12.62300487   1.        ]\n",
      "-13.908289238223109 = [  1.           0.17934093  -5.20300719 -12.62300487   1.        ]\n",
      "-13.976966104019327 = [  1.           0.17934093  -5.20300719 -12.62300487   1.        ]\n",
      "-13.835183315800238 = [  1.           0.17934093  -5.20300719 -12.62300487   1.        ]\n",
      "-16.95117034317057 = [  1.          -0.590075    -6.2146081  -14.33215629   0.        ]\n",
      "-16.9852182256028 = [  1.          -0.590075    -6.2146081  -14.33215629   0.        ]\n",
      "-16.992265471118202 = [  1.          -0.590075    -6.2146081  -14.33215629   0.        ]\n",
      "-17.08390873852903 = [  1.          -0.6429974   -6.2146081  -14.33215629   0.        ]\n",
      "-16.998798392159827 = [  1.          -0.6429974   -6.2146081  -14.33215629   0.        ]\n",
      "-17.038466232528247 = [  1.          -0.6429974   -6.2146081  -14.33215629   0.        ]\n",
      "-17.094108571964153 = [  1.          -0.69887786  -6.2146081  -14.33215629   0.        ]\n",
      "-17.127784587285237 = [  1.          -0.69887786  -6.2146081  -14.33215629   0.        ]\n",
      "-17.152018406494133 = [  1.          -0.69887786  -6.2146081  -14.33215629   0.        ]\n",
      "-17.012655426821254 = [  1.          -0.590075    -6.2146081  -14.33215629   1.        ]\n",
      "-16.925977605538517 = [  1.          -0.590075    -6.2146081  -14.33215629   1.        ]\n",
      "-17.001585203067005 = [  1.          -0.590075    -6.2146081  -14.33215629   1.        ]\n",
      "-17.07662038900992 = [  1.          -0.6429974   -6.2146081  -14.33215629   1.        ]\n",
      "-17.002975701552927 = [  1.          -0.6429974   -6.2146081  -14.33215629   1.        ]\n",
      "-17.073172109731004 = [  1.          -0.6429974   -6.2146081  -14.33215629   1.        ]\n",
      "-17.09453131557645 = [  1.          -0.69887786  -6.2146081  -14.33215629   1.        ]\n",
      "-17.125738341431077 = [  1.          -0.69887786  -6.2146081  -14.33215629   1.        ]\n",
      "-17.150820562469892 = [  1.          -0.69887786  -6.2146081  -14.33215629   1.        ]\n",
      "-13.528545903931883 = [  1.           0.42209751  -5.20243559 -12.81389754   0.        ]\n",
      "-13.634620450323366 = [  1.           0.42209751  -5.20243559 -12.81389754   0.        ]\n",
      "-13.700897288405988 = [  1.           0.42209751  -5.20243559 -12.81389754   0.        ]\n",
      "-13.634620450323366 = [  1.           0.36917511  -5.20243559 -12.81389754   0.        ]\n",
      "-13.62493774960695 = [  1.           0.36917511  -5.20243559 -12.81389754   0.        ]\n",
      "-13.752641382971476 = [  1.           0.36917511  -5.20243559 -12.81389754   0.        ]\n",
      "-13.757387476360732 = [  1.           0.31329465  -5.20243559 -12.81389754   0.        ]\n",
      "-13.6703760993711 = [  1.           0.31329465  -5.20243559 -12.81389754   0.        ]\n",
      "-13.764934681996113 = [  1.           0.31329465  -5.20243559 -12.81389754   0.        ]\n",
      "-13.648443105280602 = [  1.           0.25410578  -5.20243559 -12.81389754   0.        ]\n",
      "-13.850456855434276 = [  1.           0.25410578  -5.20243559 -12.81389754   0.        ]\n",
      "-13.773357754725224 = [  1.           0.25410578  -5.20243559 -12.81389754   0.        ]\n",
      "-13.710867460725838 = [  1.           0.19119195  -5.20243559 -12.81389754   0.        ]\n",
      "-13.882717717652497 = [  1.           0.19119195  -5.20243559 -12.81389754   0.        ]\n",
      "-13.93242244935491 = [  1.           0.19119195  -5.20243559 -12.81389754   0.        ]\n",
      "-13.791825500271063 = [  1.           0.12405265  -5.20243559 -12.81389754   0.        ]\n",
      "-13.880208306047072 = [  1.           0.12405265  -5.20243559 -12.81389754   0.        ]\n",
      "-13.977496123979787 = [  1.           0.12405265  -5.20243559 -12.81389754   0.        ]\n",
      "-13.870952876072911 = [  1.           0.05207915  -5.20243559 -12.81389754   0.        ]\n",
      "-14.108364399184826 = [  1.           0.05207915  -5.20243559 -12.81389754   0.        ]\n",
      "-13.87853185971982 = [  1.           0.05207915  -5.20243559 -12.81389754   0.        ]\n",
      "-13.634620450323366 = [  1.           0.42209751  -5.20243559 -12.81389754   1.        ]\n",
      "-13.550912934078779 = [  1.           0.42209751  -5.20243559 -12.81389754   1.        ]\n",
      "-13.634620450323366 = [  1.           0.42209751  -5.20243559 -12.81389754   1.        ]\n",
      "-13.60858861160542 = [  1.           0.36917511  -5.20243559 -12.81389754   1.        ]\n",
      "-13.682696583759142 = [  1.           0.36917511  -5.20243559 -12.81389754   1.        ]\n",
      "-13.746916176493436 = [  1.           0.36917511  -5.20243559 -12.81389754   1.        ]\n",
      "-13.697886749253117 = [  1.           0.31329465  -5.20243559 -12.81389754   1.        ]\n",
      "-13.626018246740704 = [  1.           0.31329465  -5.20243559 -12.81389754   1.        ]\n",
      "-13.651605996689112 = [  1.           0.31329465  -5.20243559 -12.81389754   1.        ]\n",
      "-13.694867119379397 = [  1.           0.25410578  -5.20243559 -12.81389754   1.        ]\n",
      "-13.733428496111484 = [  1.           0.25410578  -5.20243559 -12.81389754   1.        ]\n",
      "-13.800933031348027 = [  1.           0.25410578  -5.20243559 -12.81389754   1.        ]\n",
      "-13.807259306400905 = [  1.           0.19119195  -5.20243559 -12.81389754   1.        ]\n",
      "-13.746916176493436 = [  1.           0.19119195  -5.20243559 -12.81389754   1.        ]\n",
      "-13.905840135073351 = [  1.           0.19119195  -5.20243559 -12.81389754   1.        ]\n",
      "-13.809059486905051 = [  1.           0.12405265  -5.20243559 -12.81389754   1.        ]\n",
      "-13.863316012482565 = [  1.           0.12405265  -5.20243559 -12.81389754   1.        ]\n",
      "-13.846999635050418 = [  1.           0.12405265  -5.20243559 -12.81389754   1.        ]\n",
      "-13.83917690936921 = [  1.           0.05207915  -5.20243559 -12.81389754   1.        ]\n",
      "-13.978255713837806 = [  1.           0.05207915  -5.20243559 -12.81389754   1.        ]\n",
      "-14.107697510197122 = [  1.           0.05207915  -5.20243559 -12.81389754   1.        ]\n",
      "-18.8551690543034 = [  1.          -0.590075    -6.70656524 -14.33215629   0.        ]\n",
      "-18.85094533698432 = [  1.          -0.590075    -6.70656524 -14.33215629   0.        ]\n",
      "-18.941380751122466 = [  1.          -0.590075    -6.70656524 -14.33215629   0.        ]\n",
      "-13.449980879379751 = [  1.           0.97466274  -5.1418275  -11.98504969   0.        ]\n",
      "-13.459960038323011 = [  1.           0.97466274  -5.1418275  -11.98504969   0.        ]\n",
      "-13.485261830804294 = [  1.           0.97466274  -5.1418275  -11.98504969   0.        ]\n",
      "-13.398193669509832 = [  1.           0.92174034  -5.1418275  -11.98504969   0.        ]\n",
      "-13.57795658951346 = [  1.           0.92174034  -5.1418275  -11.98504969   0.        ]\n",
      "-13.575962002728815 = [  1.           0.92174034  -5.1418275  -11.98504969   0.        ]\n",
      "-13.549956492156095 = [  1.           0.86585988  -5.1418275  -11.98504969   0.        ]\n",
      "-13.754425585172706 = [  1.           0.86585988  -5.1418275  -11.98504969   0.        ]\n",
      "-13.661474824473151 = [  1.           0.86585988  -5.1418275  -11.98504969   0.        ]\n",
      "-13.637894449885495 = [  1.           0.80667101  -5.1418275  -11.98504969   0.        ]\n",
      "-13.792351478799931 = [  1.           0.80667101  -5.1418275  -11.98504969   0.        ]\n",
      "-13.789821287685871 = [  1.           0.80667101  -5.1418275  -11.98504969   0.        ]\n",
      "-13.700252310928871 = [  1.           0.74375718  -5.1418275  -11.98504969   0.        ]\n",
      "-13.845584081496856 = [  1.           0.74375718  -5.1418275  -11.98504969   0.        ]\n",
      "-13.822447652327789 = [  1.           0.74375718  -5.1418275  -11.98504969   0.        ]\n",
      "-13.7551411487095 = [  1.           0.67661788  -5.1418275  -11.98504969   0.        ]\n",
      "-13.806267524064316 = [  1.           0.67661788  -5.1418275  -11.98504969   0.        ]\n",
      "-13.822447652327789 = [  1.           0.67661788  -5.1418275  -11.98504969   0.        ]\n",
      "-13.8341929397041 = [  1.           0.60464438  -5.1418275  -11.98504969   0.        ]\n",
      "-13.901701269986969 = [  1.           0.60464438  -5.1418275  -11.98504969   0.        ]\n",
      "-13.931124108666538 = [  1.           0.60464438  -5.1418275  -11.98504969   0.        ]\n",
      "-13.459960038323011 = [  1.           0.97466274  -5.1418275  -11.98504969   1.        ]\n",
      "-13.485574086856792 = [  1.           0.97466274  -5.1418275  -11.98504969   1.        ]\n",
      "-13.577671892002641 = [  1.           0.92174034  -5.1418275  -11.98504969   1.        ]\n",
      "-13.545849710203441 = [  1.           0.92174034  -5.1418275  -11.98504969   1.        ]\n",
      "-13.549956492156095 = [  1.           0.86585988  -5.1418275  -11.98504969   1.        ]\n",
      "-13.661474824473151 = [  1.           0.86585988  -5.1418275  -11.98504969   1.        ]\n",
      "-13.64643694710861 = [  1.           0.80667101  -5.1418275  -11.98504969   1.        ]\n",
      "-13.716244655761791 = [  1.           0.80667101  -5.1418275  -11.98504969   1.        ]\n",
      "-13.693428071125261 = [  1.           0.74375718  -5.1418275  -11.98504969   1.        ]\n",
      "-13.747481944201214 = [  1.           0.74375718  -5.1418275  -11.98504969   1.        ]\n",
      "-13.852530061235859 = [  1.           0.67661788  -5.1418275  -11.98504969   1.        ]\n",
      "-13.891143258652027 = [  1.           0.67661788  -5.1418275  -11.98504969   1.        ]\n",
      "-13.878577648291662 = [  1.           0.60464438  -5.1418275  -11.98504969   1.        ]\n",
      "-13.851231359754623 = [  1.           0.60464438  -5.1418275  -11.98504969   1.        ]\n",
      "-13.897987628417606 = [  1.           0.60464438  -5.1418275  -11.98504969   1.        ]\n"
     ]
    }
   ],
   "source": [
    "# data col's: Time(s) Height(mm) Diameter(mm) Lenght(mm) Observer(0|1)\n",
    "D = np.loadtxt('../data/measurements.txt')\n",
    "\n",
    "\n",
    "# prepare data for analysis\n",
    "v = 2000 # 20 ml target for volume \n",
    "g = 9820 # acceleration due to gravity in mm/s\n",
    "nu = 1.53 # kinematic viscosity, mu/rho, mm^2/s\n",
    "M = []\n",
    "for [t, h, d, l] in D[:, 0:4]:\n",
    "    M.append([(v/t)/((l**2)*((l*g)**0.5)), (h/l), (d/l), (nu/(l*((l*g)**0.5)))])\n",
    "M = np.array(M)\n",
    "\n",
    "# Model specification matrix, replace col 1 with ones, take natural log of values \n",
    "X = np.log(M[:, 0:4])\n",
    "X[:, 0] = 1\n",
    "X = np.c_[X, D[:, 4]] # add observer indicator variable \n",
    "\n",
    "# Realization of response vector \n",
    "y = np.log(M[:, 0])\n",
    "\n",
    "for i, yi in enumerate(y):\n",
    "    print(f'{yi} = {X[i]}')"
   ]
  },
  {
   "cell_type": "markdown",
   "metadata": {},
   "source": [
    "### Fysisk modell\n",
    "\n",
    "$\\frac{\\langle Q\\rangle}{l^2\\sqrt{lg}}=\\Phi(\\frac{h}{l}, \\frac{d}{l}, \\frac{\\mu}{\\rho l\\sqrt{lg}})$\n",
    "\n",
    "där $l$ är ett rörs längd, $d$ dess diameter, $h$ är vattenreservoarens höjd över röret, $g$ är accelerationen pga gravitation, $\\mu$ är vätskans viskositet och $\\rho$ dess densitet. $Q$ är den uppmätta flödeshastigheten. Detta har räknats fram med Buckinghams Teorem, en dimensionsanalysteknik från fysiken.\n",
    "\n",
    "Genom att ansätta nya variabler istället för kvoterna och anta en potensform kan uttrycket skrivas om på formen\n",
    "\n",
    "\\begin{equation}\n",
    "q = \\alpha k^ar^bm^c.\n",
    "\\end{equation}\n",
    "\n",
    "Linearisering genom att ta $\\ln$ i båda led:\n",
    "\n",
    "\\begin{equation*}\n",
    "    \\ln q = \\ln \\alpha + a \\ln k + b \\ln r + c \\ln m.\n",
    "\\end{equation*}\n",
    "Vi kan se detta som formen:\n",
    "\\begin{equation}\n",
    "    \\mu_{Y|x_1,x_2,x_3} = \\beta_0 + \\beta_1 x_1 + \\beta_2 x_2 + \\beta_3 x_3\n",
    "\\end{equation}\n",
    "alltså\n",
    "\\begin{equation*}\n",
    "    \\mathbf{Y} = X\\boldsymbol\\beta + \\mathbf{E},\n",
    "\\end{equation*}\n",
    "där $X$ är modellspecifikations matrisen. $\\mathbf{E}$ är vektorn med stokastiska fel med avseende på väntevärdet och $\\mathbf{Y}$ är en respons vektor för $Y$ över hela stickprovet. \n",
    "\n",
    "Normalform: \n",
    "\\begin{equation*}\n",
    "    (X'X)\\mathbf{b} = X'\\mathbf{y},\n",
    "\\end{equation*}\n",
    "där $\\mathbf{y}$ är vektorn av observeraded värden i respons vektorn $\\mathbf{Y}$ och $\\mathbf{b}$ är den sökta vektorn med de uppskattade modell parametrarna. OLS för $\\boldsymbol\\beta$ blir,\n",
    "\\begin{equation}\n",
    "    \\boldsymbol{\\hat{\\beta}} = \\mathbf{b} = (X'X)^{-1}X'\\mathbf{y}.\n",
    "\\end{equation}"
   ]
  },
  {
   "cell_type": "markdown",
   "metadata": {},
   "source": [
    "### Regression och statistik "
   ]
  },
  {
   "cell_type": "code",
   "execution_count": 12,
   "metadata": {},
   "outputs": [
    {
     "data": {
      "text/plain": [
       "array([-4.88635418,  0.87000771,  3.60315069, -0.75188958,  0.0168805 ])"
      ]
     },
     "execution_count": 12,
     "metadata": {},
     "output_type": "execute_result"
    }
   ],
   "source": [
    "# Multiple linear regression, least square estimates for B^\n",
    "b = np.linalg.inv(X.T @ X) @ X.T @ y # (X'X)^-1X'y this is the normal equation for least squares\n",
    "b"
   ]
  },
  {
   "cell_type": "markdown",
   "metadata": {},
   "source": [
    "Vi räknar ut ett antal statistiska värden:\n",
    "\n",
    "$v$ antalet parametrar i modellen (number of features)\n",
    "\n",
    "$n$ stickprovets storlek (number of samples, sample size)\n",
    "\n",
    "SSE Sum of Squared Errors aka Residual Sum of Squares\n",
    "\n",
    "\\begin{equation}\n",
    "\\sum_{i=1}^n[y_i - (b_0 + b_1 x_{1i} + ... + b_k x_{ki})]²\n",
    "\\end{equation}\n",
    "\n",
    "Vilket alltså betyder att vi drar ifrån högerledet från vänsterledet på varje rad, kvadrerar och sedan lägger ihop alla resultaten.\n",
    "\n",
    "Variansen\n",
    "\n",
    "$\\sigma^2 = \\frac{\\mathrm{SSE}}{n-v-1}$ \n",
    "\n",
    "Standarddeviation\n",
    "\n",
    "$S = \\sqrt{\\sigma^2} = \\sigma$\n",
    "\n",
    "SSR Regression Sum of Squares\n",
    "\\begin{equation}\n",
    "b_0 \\sum_{i=1}^n{y_i} + b_1 \\sum_{i=1}^n{x_{1i}y_i} + ... + b_v \\sum_{i=1}^n{x_{vi} y_i} - \\frac{(\\sum_{i=1}^n{y_i})²}{n}\n",
    "\\end{equation}\n",
    "\n",
    "$S_{yy}$ total varians (i responsvektorn Y)\n",
    "\n",
    "\\begin{equation}\n",
    "\\sum_{i=1}^n{y_i²}-\\frac{(\\sum_{i=1}^n{y_i})²}{n}\n",
    "\\end{equation}\n",
    "\n"
   ]
  },
  {
   "cell_type": "code",
   "execution_count": 16,
   "metadata": {},
   "outputs": [],
   "source": [
    "# Sum of Squared Errors, deviation and variance \n",
    "v = len(b)-1 # degrees of freedom\n",
    "n = len(M) # number of observations from data M matrix\n",
    "\n",
    "# Sum of Squared Errors\n",
    "SSE = np.sum(np.square(y - (X @ b)))\n",
    "\n",
    "# Variance of the residuals\n",
    "var  = SSE/(n-v-1)\n",
    "\n",
    "# Standard deviation of the residuals\n",
    "std = np.sqrt(var)\n",
    "\n",
    "# Regression sum of squares, total variance \n",
    "SSR = np.sum(b*(X.T @ y)) - (np.square(np.sum(y)/n)) # regression sum of squares\n",
    "Syy = np.sum(np.square(y)) - (np.square(np.sum(y)/n)) # total variance"
   ]
  },
  {
   "cell_type": "markdown",
   "metadata": {},
   "source": [
    "## Signifikanstest\n",
    "Är regressionen signifikant? Eller är alla $\\beta_i$ = 0?\n",
    "\n",
    "Ett sorts rimlighetstest -- om vi inte klarar detta test är det ingen idé att försöka utröna något ur resultaten.\n",
    "\n",
    "Vår hypotes $H_0$ är alltså att alla $\\beta_i$ är noll.\n",
    "\n",
    "Om detta är sant följer nedanstående uttryck en F-distribution med $k$ och $n-k-1$ frihetsgrader. Detta värde läses av i en tabell.\n",
    "\n",
    "\\begin{equation}\n",
    "\\frac{\\mathrm{SSR}/k}{S²}\n",
    "\\end{equation}\n",
    "där $S²$ är en uppskattning av $\\sigma²$.\n",
    "\n",
    "Om vi får ett väldigt litet värde är alltså hypotesen falsk, och minst en parameter förklarar någon del av datan."
   ]
  },
  {
   "cell_type": "code",
   "execution_count": 18,
   "metadata": {},
   "outputs": [
    {
     "data": {
      "text/plain": [
       "0.0"
      ]
     },
     "execution_count": 18,
     "metadata": {},
     "output_type": "execute_result"
    }
   ],
   "source": [
    "# Significance regression testm, test rejects for large values\n",
    "sig_stat = (SSR/v)/var\n",
    "\n",
    "# P-value for H0 in sig_stat is very small, reject H0 that no variables are significant\n",
    "p_sig = stats.f.sf(sig_stat, v, n-v-1)\n",
    "\n",
    "p_sig"
   ]
  },
  {
   "cell_type": "markdown",
   "metadata": {},
   "source": [
    "## Förklaringsgrad( coefficient of multiple determination)\n",
    "\n",
    "När vi vet att reg är signifikant är nästa fråga, **hur sig**? Hur mycket av datan **täcks av modellen**, dvs **till vilken grad förklarar modellen datan**?\n",
    "\n",
    "\\begin{equation*}\n",
    "R^2 = \\frac{\\mathrm{SSR}}{S_{yy}}\n",
    "\\end{equation*}\n",
    "\n",
    "Detta är ett värde mellan 0 och 1."
   ]
  },
  {
   "cell_type": "code",
   "execution_count": 20,
   "metadata": {},
   "outputs": [
    {
     "data": {
      "text/plain": [
       "0.9999707077549623"
      ]
     },
     "execution_count": 20,
     "metadata": {},
     "output_type": "execute_result"
    }
   ],
   "source": [
    "RSQ = SSR/Syy # R^2 value, proportion of variance explained by the model\n",
    "RSQ\n",
    "\n",
    "Rsq = 1 - (SSE/Syy) # R^2 value, proportion of variance explained by the model\n",
    "Rsq"
   ]
  },
  {
   "cell_type": "markdown",
   "metadata": {},
   "source": [
    "## Modellraffinering \n",
    "\n",
    "Men vilka parametrar är relevanta? Och vi har ju en varibel som bara indikerar vem som gjort observationen. Vad gör vi med den?\n",
    "\n",
    "- Vi kan testa variableran en och en!\n",
    "Test statistika: \n",
    "\n",
    "Test statistika:\n",
    "\\begin{equation}\n",
    "\\frac{\\hat{\\beta_i}}{S\\sqrt{c_{ii}}}\n",
    "\\end{equation}\n",
    "där $\\mathbb{c}_{ii}$ är elementet på rad och kolumn $(i, i)$ en särskild matris, kallad varians-kovarians matrisen.\n",
    "\n",
    "Om hypotesen att variabeln är 0 är sann följer t-stat en $T_{n-k-1}$ distribution.\n",
    "Om värdet är väldigt stort eller väldigt lite avfärdar vi hypotesen och variabeln __är__ relevant.\n",
    "\n",
    "- D V S, om __observatörs-indikator__ är relevant så har vi ett observatörs-bias in data!\n",
    "\n"
   ]
  },
  {
   "cell_type": "markdown",
   "metadata": {},
   "source": [
    "### Varians/Kovarians matris:\n",
    "\n",
    "Vi härleder inte uttrycket, men på matrisform är det\n",
    "\n",
    "\\begin{equation}\n",
    "\\mathbb{c} = (X^TX)^{-1}\\sigma²\n",
    "\\end{equation}\n",
    "\n",
    "Variansen $\\sigma²$ förekommer på diagonalen i denna matris, och parvis relationer med övriga parametrar (kovarians) fyller ut resten av matrisen. "
   ]
  },
  {
   "cell_type": "code",
   "execution_count": 25,
   "metadata": {},
   "outputs": [
    {
     "name": "stdout",
     "output_type": "stream",
     "text": [
      "2.3422411110827324e-44\n"
     ]
    }
   ],
   "source": [
    "# Variance-covariance matrix\n",
    "cov = np.linalg.inv(X.T @ X)*var\n",
    "\n",
    "# is there no observer bias?\n",
    "b4_stat = b[4]/ (std*np.sqrt(cov[4, 4])) # test statistic for observer bias\n",
    "\n",
    "# Two sided test, reject H0 for small or large values\n",
    "p_b4 = 2 * min(stats.t.cdf(b4_stat, n-v-1), stats.t.sf(b4_stat, n-v-1))\n",
    "print(p_b4)"
   ]
  },
  {
   "cell_type": "markdown",
   "metadata": {},
   "source": [
    "Se där! Det finns ett observatörsbias i datan. \n",
    "\n",
    "Vad gör vi då?\n",
    "\n",
    "I själva verket har vi nu två modeller. Dessa modeller har samma lutning, men olika skärningspunkter!\n",
    "\n",
    "För observatör A är modellen:\n",
    "\\begin{equation}\n",
    "\\mu_A = (\\beta_0 + \\beta_4) + \\beta_1 x_1 + \\beta_2 x_2 + \\beta_3 x_3 \n",
    "\\end{equation}\n",
    "och för B:\n",
    "\\begin{equation}\n",
    "\\mu_B = \\beta_0  + \\beta_1 x_1 + \\beta_2 x_2 + \\beta_3 x_3 \n",
    "\\end{equation}\n",
    "\n",
    "Notera att regressionen har hittat ett värde för $\\beta_4$:"
   ]
  },
  {
   "cell_type": "code",
   "execution_count": 27,
   "metadata": {},
   "outputs": [
    {
     "name": "stdout",
     "output_type": "stream",
     "text": [
      "0.016880504116747522\n"
     ]
    }
   ],
   "source": [
    "print(b[4])"
   ]
  },
  {
   "cell_type": "code",
   "execution_count": 28,
   "metadata": {},
   "outputs": [],
   "source": [
    "# Split models according to observer \n",
    "modA = np.append(b[0] + b[4], b[1:4]) # model for observer A\n",
    "modB = b[0:4] # model for observer B\n",
    "Xr = X[:, 0:4] # model matrix for both observers\n"
   ]
  },
  {
   "cell_type": "markdown",
   "metadata": {},
   "source": [
    "Så vilken model är bäst? "
   ]
  },
  {
   "cell_type": "code",
   "execution_count": 38,
   "metadata": {},
   "outputs": [
    {
     "name": "stdout",
     "output_type": "stream",
     "text": [
      "0.9999999986322857 0.9999999937061224\n"
     ]
    }
   ],
   "source": [
    "# Normalize error around reg line\n",
    "norm_a = (y - (Xr @ modA))/var # normalized error for observer A\n",
    "norm_b = (y - (Xr @ modB))/var # normalized error for observer B\n",
    "\n",
    "# Binding for chi^2 test, avoindin empty intervals an many low numbers \n",
    "# interarively found through trial and error\n",
    "binsA, rangesA = np.histogram(norm_a, 48, (-20, 21))\n",
    "p_A, _ = np.histogram(norm_a, 48, (-20, 21), density=True)\n",
    "\n",
    "# chi^2 goodness of fit test\n",
    "# -- rejects H0 for large values\n",
    "chi2_statA = 0\n",
    "for i in range(0, 48):\n",
    "    chi2_statA += (np.square(binsA[i] - n*p_A[i]))/(n*p_A[i])\n",
    "\n",
    "# p-value very large, do not goodness of fit\n",
    "p_chi2A = stats.chi2.sf(chi2_statA, 48-1)\n",
    "\n",
    "binsB, rangesB = np.histogram(norm_b, 48, (-20, 21))\n",
    "p_B, _ = np.histogram(norm_b, 48, (-20, 21), density=True)\n",
    "\n",
    "# chi^2 goodness of fit test\n",
    "chi_statB = 0 # set to zero\n",
    "for i in range(0, 48):\n",
    "    chi_statB += np.divide(np.square(binsB[i] - n*p_B[i]), n*p_B[i]) # chi^2 test statistic\n",
    "\n",
    "# p-value very large, do not reject goodness of fit\n",
    "p_chi2B = stats.chi2.sf(chi_statB, 48-1)\n",
    "print(p_chi2A, p_chi2B)\n"
   ]
  },
  {
   "cell_type": "markdown",
   "metadata": {},
   "source": [
    "Modellerna är alltså likvärdiga bortom $3\\sigma$ så skillnaden är i praktiken långt bortom de 99.7% av variansen som regressionen förklarar. Men tekniskt sett är modell A något bättre.\n",
    "\n",
    "Om vi återgår till orginalformen och räknar ut det modellerade flödet för varje mätpunkt och jämför med det uppmätta flödet tillsammans med vår regressionslinje får vi följande graf:\n",
    "\n",
    "![image](../assets/regression.png)"
   ]
  }
 ],
 "metadata": {
  "kernelspec": {
   "display_name": "ML_Valentin-pyoAUsqH",
   "language": "python",
   "name": "python3"
  },
  "language_info": {
   "codemirror_mode": {
    "name": "ipython",
    "version": 3
   },
   "file_extension": ".py",
   "mimetype": "text/x-python",
   "name": "python",
   "nbconvert_exporter": "python",
   "pygments_lexer": "ipython3",
   "version": "3.11.5"
  }
 },
 "nbformat": 4,
 "nbformat_minor": 2
}
