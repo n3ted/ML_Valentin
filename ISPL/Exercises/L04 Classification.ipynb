{
 "cells": [
  {
   "cell_type": "code",
   "execution_count": 1,
   "metadata": {},
   "outputs": [],
   "source": [
    "import pandas as pd\n",
    "import numpy as np\n",
    "import matplotlib.pyplot as plt\n",
    "import seaborn as sns\n",
    "from ISLP import load_data\n"
   ]
  },
  {
   "cell_type": "code",
   "execution_count": 5,
   "metadata": {},
   "outputs": [
    {
     "data": {
      "text/html": [
       "<div>\n",
       "<style scoped>\n",
       "    .dataframe tbody tr th:only-of-type {\n",
       "        vertical-align: middle;\n",
       "    }\n",
       "\n",
       "    .dataframe tbody tr th {\n",
       "        vertical-align: top;\n",
       "    }\n",
       "\n",
       "    .dataframe thead th {\n",
       "        text-align: right;\n",
       "    }\n",
       "</style>\n",
       "<table border=\"1\" class=\"dataframe\">\n",
       "  <thead>\n",
       "    <tr style=\"text-align: right;\">\n",
       "      <th></th>\n",
       "      <th>Relative humidity (%)</th>\n",
       "      <th>type</th>\n",
       "      <th>Evaporation (% wt)</th>\n",
       "    </tr>\n",
       "  </thead>\n",
       "  <tbody>\n",
       "    <tr>\n",
       "      <th>0</th>\n",
       "      <td>35.3</td>\n",
       "      <td>1</td>\n",
       "      <td>11.2</td>\n",
       "    </tr>\n",
       "    <tr>\n",
       "      <th>1</th>\n",
       "      <td>29.6</td>\n",
       "      <td>1</td>\n",
       "      <td>11.0</td>\n",
       "    </tr>\n",
       "    <tr>\n",
       "      <th>2</th>\n",
       "      <td>31.0</td>\n",
       "      <td>1</td>\n",
       "      <td>12.6</td>\n",
       "    </tr>\n",
       "    <tr>\n",
       "      <th>3</th>\n",
       "      <td>58.0</td>\n",
       "      <td>1</td>\n",
       "      <td>8.3</td>\n",
       "    </tr>\n",
       "    <tr>\n",
       "      <th>4</th>\n",
       "      <td>62.0</td>\n",
       "      <td>1</td>\n",
       "      <td>10.1</td>\n",
       "    </tr>\n",
       "  </tbody>\n",
       "</table>\n",
       "</div>"
      ],
      "text/plain": [
       "   Relative humidity (%)  type  Evaporation (% wt)\n",
       "0                   35.3     1                11.2\n",
       "1                   29.6     1                11.0\n",
       "2                   31.0     1                12.6\n",
       "3                   58.0     1                 8.3\n",
       "4                   62.0     1                10.1"
      ]
     },
     "execution_count": 5,
     "metadata": {},
     "output_type": "execute_result"
    }
   ],
   "source": [
    "df = pd.read_csv('../data/paint.csv')\n",
    "df.head()"
   ]
  },
  {
   "cell_type": "code",
   "execution_count": 33,
   "metadata": {},
   "outputs": [
    {
     "ename": "NameError",
     "evalue": "name 'ea_sq' is not defined",
     "output_type": "error",
     "traceback": [
      "\u001b[0;31m---------------------------------------------------------------------------\u001b[0m",
      "\u001b[0;31mNameError\u001b[0m                                 Traceback (most recent call last)",
      "Cell \u001b[0;32mIn[33], line 60\u001b[0m\n\u001b[1;32m     58\u001b[0m     ea_sq \u001b[38;5;241m=\u001b[39m np\u001b[38;5;241m.\u001b[39msquare(Y\u001b[38;5;241m.\u001b[39miloc[i] \u001b[38;5;241m-\u001b[39m (row_x \u001b[38;5;241m@\u001b[39m modelA))\n\u001b[1;32m     59\u001b[0m     eb_sq \u001b[38;5;241m=\u001b[39m np\u001b[38;5;241m.\u001b[39msquare(Y\u001b[38;5;241m.\u001b[39miloc[i] \u001b[38;5;241m-\u001b[39m (row_x \u001b[38;5;241m@\u001b[39m modelB))\n\u001b[0;32m---> 60\u001b[0m \u001b[38;5;28mprint\u001b[39m(\u001b[38;5;124mf\u001b[39m\u001b[38;5;124m\"\u001b[39m\u001b[38;5;124mData row \u001b[39m\u001b[38;5;132;01m{\u001b[39;00mX_test\u001b[38;5;241m.\u001b[39miloc[i]\u001b[38;5;241m.\u001b[39mname\u001b[38;5;132;01m}\u001b[39;00m\u001b[38;5;124m, \u001b[39m\u001b[38;5;132;01m{\u001b[39;00mclassify(x,\u001b[38;5;250m \u001b[39mY\u001b[38;5;241m.\u001b[39miloc[i])\u001b[38;5;132;01m}\u001b[39;00m\u001b[38;5;124m should be: \u001b[39m\u001b[38;5;132;01m{\u001b[39;00mX_test\u001b[38;5;241m.\u001b[39miloc[i][\u001b[38;5;241m1\u001b[39m]\u001b[38;5;132;01m}\u001b[39;00m\u001b[38;5;124m , distances: \u001b[39m\u001b[38;5;132;01m{\u001b[39;00m\u001b[43mea_sq\u001b[49m,\u001b[38;5;250m \u001b[39meb_sq\u001b[38;5;132;01m}\u001b[39;00m\u001b[38;5;124m\"\u001b[39m)\n",
      "\u001b[0;31mNameError\u001b[0m: name 'ea_sq' is not defined"
     ]
    },
    {
     "data": {
      "image/png": "[encoded data removed]",
      "text/plain": [
       "<Figure size 640x480 with 1 Axes>"
      ]
     },
     "metadata": {},
     "output_type": "display_data"
    }
   ],
   "source": [
    "from sklearn.linear_model import LinearRegression\n",
    "from sklearn.model_selection import train_test_split\n",
    "\n",
    "X, y = df.drop('Evaporation (% wt)', axis=1), df['Evaporation (% wt)']\n",
    "X_train, X_test, y_train, y_test = train_test_split(X, y, test_size=0.3, random_state=42)\n",
    "\n",
    "model = LinearRegression()\n",
    "model.fit(X_train, y_train)\n",
    "\n",
    "# Discussion of the categorical variables \n",
    "# The categorical variables are 'Type'\n",
    "\n",
    "b = model.coef_\n",
    "\n",
    "modelA = np.append(model.intercept_ + b[1], b[0]) # The intercept is the first element of the array returned by model.coef_ and the second element is the coefficient of the first variable in the dataframe\n",
    "modelB = np.append(model.intercept_, b[0])\n",
    "\n",
    "modelA, modelB\n",
    "\n",
    "Xr = X_test.drop('type', axis=1)\n",
    "\n",
    "# insert the intercept\n",
    "Xr.insert(0, 'Intercept', 1)\n",
    "x = Xr['Relative humidity (%)'] # The variable that is being plotted on the x-axis\n",
    "\n",
    "# Show whole data values with color coding for the type of paint\n",
    "splitA = df[df['type'] == 1]\n",
    "splitB = df[df['type'] == 0]\n",
    "\n",
    "X_A = splitA['Relative humidity (%)'] # The variable that is being plotted on the x-axis\n",
    "X_B = splitB['Relative humidity (%)'] # The variable that is being plotted on the x-axis\n",
    "Y_A = splitA['Evaporation (% wt)'] # The variable that is being plotted on the y-axis\n",
    "Y_B = splitB['Evaporation (% wt)'] # The variable that is being plotted on the y-axis\n",
    "plt.scatter(X_A, Y_A, color='blue')\n",
    "plt.scatter(X_B, Y_B, color='green')\n",
    "\n",
    "# Plot the linear regression models\n",
    "\n",
    "plt.plot(x, Xr @ modelA, color='b')\n",
    "plt.plot(x, Xr @ modelB, color='g')\n",
    "# Do linear klassification\n",
    "def classify(x, y):\n",
    "    row_x = [1.0, x]\n",
    "    ea_sq = np.square(y - (row_x @ modelA))\n",
    "    eb_sq = np.square(y - (row_x @ modelB))\n",
    "    return ea_sq < eb_sq\n",
    "\n",
    "\n",
    "Y = y_test\n",
    "X = X_test['Relative humidity (%)']\n",
    "T = X_test['type']\n",
    "correct = True\n",
    "\n",
    "for i, x in enumerate(X):\n",
    "    if(T.iloc[i] != classify(x, Y.iloc[i])):\n",
    "        plt.scatter(x, Y.iloc[i], c=\"red\")\n",
    "        row_x = [1.0, x]\n",
    "        ea_sq = np.square(Y.iloc[i] - (row_x @ modelA))\n",
    "        eb_sq = np.square(Y.iloc[i] - (row_x @ modelB))\n",
    "print(f\"Data row {X_test.iloc[i].name}, {classify(x, Y.iloc[i])} should be: {X_test.iloc[i][1]} , distances: {ea_sq, eb_sq}\")\n",
    "        "
   ]
  },
  {
   "cell_type": "code",
   "execution_count": 34,
   "metadata": {},
   "outputs": [
    {
     "data": {
      "text/plain": [
       "Text(0.5, 1.0, 'Logistic function')"
      ]
     },
     "execution_count": 34,
     "metadata": {},
     "output_type": "execute_result"
    },
    {
     "data": {
      "image/png": "[encoded data removed]",
      "text/plain": [
       "<Figure size 640x480 with 1 Axes>"
      ]
     },
     "metadata": {},
     "output_type": "display_data"
    }
   ],
   "source": [
    "logistic_func = lambda x: np.exp(x) / (1 + np.exp(x))\n",
    "\n",
    "# Plot the logistic function\n",
    "x = np.linspace(-10, 10)\n",
    "plt.plot(x, logistic_func(x))\n",
    "plt.title('Logistic function')"
   ]
  },
  {
   "cell_type": "code",
   "execution_count": null,
   "metadata": {},
   "outputs": [],
   "source": [
    "# A logistic function is a function that can take any input value and map it into a value between 0 and 1.\n",
    "# This is useful for binary classification problems, where we want to classify an input into one of two categories.\n",
    "# The logistic function is defined as the sigmoid function, which is a special case of the logistic function.\n",
    "# The logistic function is defined as f(x) = 1 / (1 + e^-x), where e is the base of the natural logarithm.\n",
    "# The logistic func uses Maximum Likelihood Estimation to estimate the parameters of the model."
   ]
  },
  {
   "cell_type": "code",
   "execution_count": 42,
   "metadata": {},
   "outputs": [
    {
     "name": "stdout",
     "output_type": "stream",
     "text": [
      "Probability of correct prediction:\n",
      "27    0.558890\n",
      "15    0.621741\n",
      "23    0.744147\n",
      "17    0.525649\n",
      "8     0.613710\n",
      "9     0.664105\n",
      "29    0.764872\n",
      "24    0.729546\n",
      "12    0.823695\n",
      "0     0.804066\n",
      "Name: type, dtype: float64\n"
     ]
    }
   ],
   "source": [
    "from sklearn.linear_model import LogisticRegressionCV\n",
    "from sklearn.preprocessing import StandardScaler\n",
    "\n",
    "# Note that our categorical data is our Y \n",
    "X, y = df.drop('type', axis=1), df['type']\n",
    "\n",
    "X_train, X_test, y_train, y_test = train_test_split(X, y, test_size=0.3, random_state=42)\n",
    "\n",
    "scaler = StandardScaler()\n",
    "scaled_X_train = scaler.fit_transform(X_train) # We fit and transform the training data\n",
    "scaled_X_test = scaler.transform(X_test) # We only transform the test data, not fit it\n",
    "\n",
    "# Create a logistic regression model\n",
    "log_reg = LogisticRegressionCV(penalty='elasticnet', l1_ratios=np.linspace(0, 1, 10), solver='saga', max_iter=10000)\n",
    "log_reg.fit(scaled_X_train, y_train) # Fit the model to the training data\n",
    "\n",
    "y_hat = log_reg.predict_proba(scaled_X_test) # Predict the test data\n",
    "\n",
    "print(f\"Probability of correct prediction:\\n{(y_test - y_hat[:,0]).round(6).abs()}\")"
   ]
  }
 ],
 "metadata": {
  "kernelspec": {
   "display_name": "ML_Valentin-pyoAUsqH",
   "language": "python",
   "name": "python3"
  },
  "language_info": {
   "codemirror_mode": {
    "name": "ipython",
    "version": 3
   },
   "file_extension": ".py",
   "mimetype": "text/x-python",
   "name": "python",
   "nbconvert_exporter": "python",
   "pygments_lexer": "ipython3",
   "version": "3.11.5"
  }
 },
 "nbformat": 4,
 "nbformat_minor": 2
}
