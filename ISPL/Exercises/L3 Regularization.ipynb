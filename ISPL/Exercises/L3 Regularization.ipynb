{
 "cells": [
  {
   "cell_type": "code",
   "execution_count": 1,
   "metadata": {},
   "outputs": [],
   "source": [
    "import seaborn as sns\n",
    "import matplotlib.pyplot as plt\n",
    "import numpy as np\n",
    "import pandas as pd\n",
    "from ISLP import load_data\n",
    "from ISLP.models import (ModelSpec as MS, summarize, poly)\n",
    "from sklearn.model_selection import train_test_split\n",
    "from sklearn.preprocessing import PolynomialFeatures\n",
    "from sklearn.linear_model import LinearRegression"
   ]
  },
  {
   "cell_type": "code",
   "execution_count": 2,
   "metadata": {},
   "outputs": [
    {
     "data": {
      "text/plain": [
       "((134, 19), (66, 19), (134,), (66,))"
      ]
     },
     "execution_count": 2,
     "metadata": {},
     "output_type": "execute_result"
    }
   ],
   "source": [
    "# Data preparation with islp\n",
    "df = pd.read_csv('../data/Advertising.csv')\n",
    "\n",
    "# drop the first column\n",
    "df = df.drop(df.columns[0], axis=1) # axis=1 means column axis and data.columns[0] is the first column\n",
    "\n",
    "X, y = df.drop('Sales', axis=1), df['Sales']\n",
    "\n",
    "model_poly = PolynomialFeatures(degree=3, include_bias=False)\n",
    "X_poly = model_poly.fit_transform(X)\n",
    "\n",
    "X_train, X_test, y_train, y_test = train_test_split(X_poly, y, test_size=0.33, random_state=42)\n",
    "\n",
    "X_train.shape, X_test.shape, y_train.shape, y_test.shape\n"
   ]
  },
  {
   "cell_type": "code",
   "execution_count": 3,
   "metadata": {},
   "outputs": [
    {
     "name": "stdout",
     "output_type": "stream",
     "text": [
      "Scaled x_train mean: -3.34898382919136e-17, std: 1.0\n",
      "Scaled x_test mean: -0.11982457640326809, std: 1.1245966534380971\n"
     ]
    }
   ],
   "source": [
    "from sklearn.preprocessing import StandardScaler\n",
    "\n",
    "scaler = StandardScaler()\n",
    "X_train_scaled = scaler.fit_transform(X_train)\n",
    "X_test_scaled = scaler.transform(X_test)\n",
    "\n",
    "# Remove sample mean and diver by sample standard deviation\n",
    "\n",
    "print(f'Scaled x_train mean: {X_train_scaled.mean()}, std: {X_train_scaled.std()}')\n",
    "print(f'Scaled x_test mean: {X_test_scaled.mean()}, std: {X_test_scaled.std()}')"
   ]
  },
  {
   "cell_type": "code",
   "execution_count": 4,
   "metadata": {},
   "outputs": [
    {
     "name": "stdout",
     "output_type": "stream",
     "text": [
      "MSE: 0.37323673323812373, MAE: 0.4845959994544078, RMSE: 0.6109310380379472\n"
     ]
    }
   ],
   "source": [
    "# Apply ridge regression\n",
    "from sklearn.linear_model import Ridge\n",
    "from sklearn.metrics import mean_squared_error, mean_absolute_error\n",
    "\n",
    "def ridge_regression(X, penalty=0):\n",
    "    # alpha 0 is equivalent to linear regression\n",
    "    model_ridge = Ridge(alpha=penalty)\n",
    "    model_ridge.fit(X_train_scaled, y_train)\n",
    "    y_pred = model_ridge.predict(X)\n",
    "    return y_pred\n",
    "\n",
    "y_pred = ridge_regression(X_test_scaled, 0.2)\n",
    "mse = mean_squared_error(y_test, y_pred)\n",
    "mae = mean_absolute_error(y_test, y_pred)\n",
    "rmse = np.sqrt(mse)\n",
    "\n",
    "print(f'MSE: {mse}, MAE: {mae}, RMSE: {rmse}')\n",
    "\n"
   ]
  },
  {
   "cell_type": "code",
   "execution_count": 5,
   "metadata": {},
   "outputs": [
    {
     "data": {
      "text/plain": [
       "(0.2650465950553624, 0.37485164412178346, 0.5148267621786599)"
      ]
     },
     "execution_count": 5,
     "metadata": {},
     "output_type": "execute_result"
    }
   ],
   "source": [
    "# We check whit linear regression, RMSE is similar\n",
    "from sklearn.linear_model import LinearRegression\n",
    "\n",
    "lin_reg = LinearRegression()\n",
    "lin_reg.fit(X_train_scaled, y_train)\n",
    "y_pred = lin_reg.predict(X_test_scaled)\n",
    "mse = mean_squared_error(y_test, y_pred)\n",
    "mae = mean_absolute_error(y_test, y_pred)\n",
    "mse, mae, np.sqrt(mse)"
   ]
  },
  {
   "cell_type": "code",
   "execution_count": 6,
   "metadata": {},
   "outputs": [
    {
     "name": "stdout",
     "output_type": "stream",
     "text": [
      "[ 1.89480144  0.42062367  0.         -0.          3.55216501  0.\n",
      "  0.          0.01110965  0.         -0.42677394 -0.         -0.\n",
      "  0.          0.         -0.          0.          0.06706906  0.\n",
      "  0.        ]\n"
     ]
    }
   ],
   "source": [
    "# We do lasso regression\n",
    "from sklearn.linear_model import Lasso\n",
    "\n",
    "model_lasso = Lasso(alpha=0.1) # alpha 0 is equivalent to linear regression the alpha is the penalty\n",
    "model_lasso.fit(X_train_scaled, y_train)\n",
    "y_pred = model_lasso.predict(X_test_scaled)\n",
    "mse = mean_squared_error(y_test, y_pred)\n",
    "mae = mean_absolute_error(y_test, y_pred)\n",
    "rmse = np.sqrt(mse)\n",
    "mse, mae, rmse\n",
    "print(model_lasso.coef_)"
   ]
  },
  {
   "cell_type": "code",
   "execution_count": 7,
   "metadata": {},
   "outputs": [],
   "source": [
    "# k-fold cross validation to find the best alpha\n",
    "# We use the cross_val_score function to evaluate the model with different alpha values\n"
   ]
  },
  {
   "cell_type": "code",
   "execution_count": 8,
   "metadata": {},
   "outputs": [
    {
     "data": {
      "text/plain": [
       "(0.3176335944839659, 0.4343075766386554, 0.5635899169466801)"
      ]
     },
     "execution_count": 8,
     "metadata": {},
     "output_type": "execute_result"
    }
   ],
   "source": [
    "# Ridge regression\n",
    "from sklearn.linear_model import RidgeCV\n",
    "model_ridge_cv = RidgeCV(alphas=[0.1, 1.0, 10.0], cv=5)\n",
    "model_ridge_cv.fit(X_train_scaled, y_train)\n",
    "model_ridge_cv.alpha_\n",
    "\n",
    "y_pred = model_ridge_cv.predict(X_test_scaled)\n",
    "mse = mean_squared_error(y_test, y_pred)\n",
    "mae = mean_absolute_error(y_test, y_pred)\n",
    "rmse = np.sqrt(mse)\n",
    "mse, mae, rmse"
   ]
  },
  {
   "cell_type": "code",
   "execution_count": 9,
   "metadata": {},
   "outputs": [
    {
     "data": {
      "text/plain": [
       "array([ 5.84681185,  0.52142086,  0.71689997, -6.17948738,  3.75034058,\n",
       "       -1.36283352, -0.08571128,  0.08322815, -0.34893776,  2.16952446,\n",
       "       -0.47840838,  0.68527348,  0.63080799, -0.5950065 ,  0.61661989,\n",
       "       -0.31335495,  0.36499629,  0.03328145, -0.13652471])"
      ]
     },
     "execution_count": 9,
     "metadata": {},
     "output_type": "execute_result"
    }
   ],
   "source": [
    "model_ridge_cv.coef_"
   ]
  }
 ],
 "metadata": {
  "kernelspec": {
   "display_name": "ML_Valentin-pyoAUsqH",
   "language": "python",
   "name": "python3"
  },
  "language_info": {
   "codemirror_mode": {
    "name": "ipython",
    "version": 3
   },
   "file_extension": ".py",
   "mimetype": "text/x-python",
   "name": "python",
   "nbconvert_exporter": "python",
   "pygments_lexer": "ipython3",
   "version": "3.11.5"
  }
 },
 "nbformat": 4,
 "nbformat_minor": 2
}
