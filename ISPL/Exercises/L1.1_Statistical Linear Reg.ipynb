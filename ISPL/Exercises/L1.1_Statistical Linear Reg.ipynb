{
 "cells": [
  {
   "cell_type": "code",
   "execution_count": 50,
   "metadata": {},
   "outputs": [],
   "source": [
    "import numpy as np\n",
    "import matplotlib.pyplot as plt\n",
    "import pandas as pd \n",
    "from matplotlib.pyplot import subplots\n",
    "import statsmodels.api as sm  # import statsmodels this is the library we will use to fit the model\n",
    "# statsmodels is a library for statistical modeling and testing\n",
    "from statsmodels.stats.outliers_influence import variance_inflation_factor as vif\n",
    "from matplotlib.pyplot import subplots\n",
    "# variance_inflation_factor is a function that calculates the variance inflation factor\n",
    "# which is used to detect multicollinearity\n",
    "from statsmodels.stats.anova import anova_lm # anova_lm is a function that performs analysis of variance\n",
    "from statsmodels.formula.api import ols # ols is a function that fits a linear model\n",
    "from scipy.stats import f # f is a function that calculates the f-distribution\n",
    "from scipy.stats import t # t is a function that calculates the t-distribution\n",
    "from scipy.stats import norm # norm is a function that calculates the normal distribution\n",
    "from scipy.stats import probplot # probplot is a function that creates a probability plot\n",
    "import ISLP as isl\n"
   ]
  },
  {
   "cell_type": "code",
   "execution_count": null,
   "metadata": {},
   "outputs": [],
   "source": [
    "dir(sm)"
   ]
  },
  {
   "cell_type": "code",
   "execution_count": null,
   "metadata": {},
   "outputs": [],
   "source": [
    "# Load the data\n",
    "data = np.loadtxt('../data/measurements.txt')\n",
    "\n",
    "# show the first few rows of the data\n",
    "#print(data[:5])\n",
    "\n",
    "# create a pandas dataframe\n",
    "#df = pd.DataFrame(data, columns=['y', 'x1', 'x2', 'x3', 'x4'])\n",
    "#df.head()\n",
    "\n",
    "# prepare data for analysis\n",
    "v = 20000  # 20 ml target volume\n",
    "g = 9820  # acceleration due to gravity in mm/s\n",
    "nu = 1.53  # kinematic vicosity, mu/rho, mm^2/s\n",
    "M = []\n",
    "\n",
    "\n",
    "for [t, h, d, l] in data[:, 0:4]: # iterate over each row of the data \n",
    "    M.append([(v/t)/((l**2)*((l*g)**0.5)), (h/l), (d/l), (nu/(l*((l*g)**0.5)))])\n",
    "M = np.array(M)\n",
    "\n",
    "# Model specification matrix, replace column 1 with ones, take natural log of values\n",
    "X = np.log(M[:, 0:4])\n",
    "X[:, 0] = 1\n",
    "X = np.c_[X, data[:, 4]]  # add observer indicator variable\n",
    "\n",
    "# Realization of response vector\n",
    "y = np.log(M[:, 0])\n",
    "\n",
    "\n",
    "for i, yi in enumerate(y):\n",
    "    print(f\"{yi} = {X[i]}\")"
   ]
  },
  {
   "cell_type": "code",
   "execution_count": 58,
   "metadata": {},
   "outputs": [
    {
     "data": {
      "text/plain": [
       "array([-2.58376909,  0.87000771,  3.60315069, -0.75188958,  0.0168805 ])"
      ]
     },
     "execution_count": 58,
     "metadata": {},
     "output_type": "execute_result"
    }
   ],
   "source": [
    "# Fit the model\n",
    "model = sm.OLS(y, X) # create a model object\n",
    "results = model.fi t()\n",
    "#print(results.summary())\n",
    "results.params\n"
   ]
  },
  {
   "cell_type": "code",
   "execution_count": 92,
   "metadata": {},
   "outputs": [
    {
     "name": "stdout",
     "output_type": "stream",
     "text": [
      "5\n"
     ]
    },
    {
     "data": {
      "text/plain": [
       "1.2105524599028357"
      ]
     },
     "execution_count": 92,
     "metadata": {},
     "output_type": "execute_result"
    }
   ],
   "source": [
    "# Get the length of results\n",
    "n = len(results.params)\n",
    "print(n)\n",
    "# Calculate the SSE\n",
    "SSE = np.sum((results.resid)**2)\n",
    "SSE"
   ]
  },
  {
   "cell_type": "code",
   "execution_count": 93,
   "metadata": {},
   "outputs": [
    {
     "name": "stdout",
     "output_type": "stream",
     "text": [
      "v = 4\n",
      "n = 198\n",
      "SST = 425.14419302220585\n",
      "SSE = 1.2105524599028357\n",
      "var = 0.006144936344684445\n",
      "SSR = 423.933640562303\n",
      "Syy = 2.1580923503665272\n"
     ]
    }
   ],
   "source": [
    "v = len(results.params) - 1 # degrees of freedom for SSE\n",
    "print(f\"v = {v}\")\n",
    "n = len(M) # number of observations\n",
    "print(f\"n = {n}\")\n",
    "p = len(results.params) - 1 # number of parameters\n",
    "\n",
    "# Calculate the SST is the sum of squares total\n",
    "SST = np.sum((y - np.mean(y))**2) # sum of squares total\n",
    "print(f\"SST = {SST}\")\n",
    "SSE = np.sum(np.square(y-(X @ results.params))) # sum of squares error\n",
    "print(f\"SSE = {SSE}\")\n",
    "var = SSE/(n-1)\n",
    "print(f\"var = {var}\")\n",
    "\n",
    "SSR = SST - SSE\n",
    "print(f\"SSR = {SSR}\")\n",
    "\n",
    "Syy = SST/(n-1) # variance of the response\n",
    "print(f\"Syy = {Syy}\")"
   ]
  },
  {
   "cell_type": "code",
   "execution_count": 95,
   "metadata": {},
   "outputs": [
    {
     "name": "stdout",
     "output_type": "stream",
     "text": [
      "F = 17247.275512016426\n",
      "p-value = 3.0527195778725447e-245\n"
     ]
    }
   ],
   "source": [
    "import scipy.stats as stats\n",
    "# Significance of the model\n",
    "F = (SSR/v) / var\n",
    "print(f\"F = {F}\")\n",
    "\n",
    "p_value = stats.f.sf(F, v, n-v-1)\n",
    "print(f\"p-value = {p_value}\")"
   ]
  },
  {
   "cell_type": "code",
   "execution_count": 96,
   "metadata": {},
   "outputs": [
    {
     "name": "stdout",
     "output_type": "stream",
     "text": [
      "R^2 = 0.9971526073276518\n"
     ]
    }
   ],
   "source": [
    "# Calculate the R^2 value of the model förklaringsgrad\n",
    "R2 = 1 - SSE/SST\n",
    "print(f\"R^2 = {R2}\")"
   ]
  }
 ],
 "metadata": {
  "kernelspec": {
   "display_name": "ML_Valentin-pyoAUsqH",
   "language": "python",
   "name": "python3"
  },
  "language_info": {
   "codemirror_mode": {
    "name": "ipython",
    "version": 3
   },
   "file_extension": ".py",
   "mimetype": "text/x-python",
   "name": "python",
   "nbconvert_exporter": "python",
   "pygments_lexer": "ipython3",
   "version": "3.11.5"
  }
 },
 "nbformat": 4,
 "nbformat_minor": 2
}
