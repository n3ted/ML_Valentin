{
 "cells": [
  {
   "cell_type": "code",
   "execution_count": 255,
   "metadata": {},
   "outputs": [],
   "source": [
    "import pandas as pd\n",
    "import numpy as np\n",
    "import matplotlib.pyplot as plt\n",
    "import seaborn as sns\n",
    "import scipy.stats as stats\n",
    "import statsmodels.api as sm\n",
    "from statsmodels.formula.api import ols\n",
    "import ISLP as isl\n",
    "from sklearn.linear_model import LinearRegression\n",
    "from sklearn.metrics import mean_squared_error\n",
    "from sklearn.model_selection import train_test_split\n",
    "from sklearn.preprocessing import PolynomialFeatures"
   ]
  },
  {
   "cell_type": "code",
   "execution_count": 256,
   "metadata": {},
   "outputs": [
    {
     "data": {
      "text/html": [
       "<div>\n",
       "<style scoped>\n",
       "    .dataframe tbody tr th:only-of-type {\n",
       "        vertical-align: middle;\n",
       "    }\n",
       "\n",
       "    .dataframe tbody tr th {\n",
       "        vertical-align: top;\n",
       "    }\n",
       "\n",
       "    .dataframe thead th {\n",
       "        text-align: right;\n",
       "    }\n",
       "</style>\n",
       "<table border=\"1\" class=\"dataframe\">\n",
       "  <thead>\n",
       "    <tr style=\"text-align: right;\">\n",
       "      <th></th>\n",
       "      <th>Relative humidity (%)</th>\n",
       "      <th>type</th>\n",
       "      <th>Evaporation (% wt)</th>\n",
       "    </tr>\n",
       "  </thead>\n",
       "  <tbody>\n",
       "    <tr>\n",
       "      <th>0</th>\n",
       "      <td>35.3</td>\n",
       "      <td>1</td>\n",
       "      <td>11.2</td>\n",
       "    </tr>\n",
       "    <tr>\n",
       "      <th>1</th>\n",
       "      <td>29.6</td>\n",
       "      <td>1</td>\n",
       "      <td>11.0</td>\n",
       "    </tr>\n",
       "    <tr>\n",
       "      <th>2</th>\n",
       "      <td>31.0</td>\n",
       "      <td>1</td>\n",
       "      <td>12.6</td>\n",
       "    </tr>\n",
       "    <tr>\n",
       "      <th>3</th>\n",
       "      <td>58.0</td>\n",
       "      <td>1</td>\n",
       "      <td>8.3</td>\n",
       "    </tr>\n",
       "    <tr>\n",
       "      <th>4</th>\n",
       "      <td>62.0</td>\n",
       "      <td>1</td>\n",
       "      <td>10.1</td>\n",
       "    </tr>\n",
       "  </tbody>\n",
       "</table>\n",
       "</div>"
      ],
      "text/plain": [
       "   Relative humidity (%)  type  Evaporation (% wt)\n",
       "0                   35.3     1                11.2\n",
       "1                   29.6     1                11.0\n",
       "2                   31.0     1                12.6\n",
       "3                   58.0     1                 8.3\n",
       "4                   62.0     1                10.1"
      ]
     },
     "execution_count": 256,
     "metadata": {},
     "output_type": "execute_result"
    }
   ],
   "source": [
    "df = pd.read_csv('../data/paint.csv')\n",
    "df.head()"
   ]
  },
  {
   "cell_type": "code",
   "execution_count": 257,
   "metadata": {},
   "outputs": [
    {
     "data": {
      "text/plain": [
       "Relative humidity (%)    0\n",
       "type                     0\n",
       "Evaporation (% wt)       0\n",
       "dtype: int64"
      ]
     },
     "execution_count": 257,
     "metadata": {},
     "output_type": "execute_result"
    }
   ],
   "source": [
    "# Exploratory Data Analysis\n",
    "# Check for missing values\n",
    "df.isnull().sum()"
   ]
  },
  {
   "cell_type": "code",
   "execution_count": 258,
   "metadata": {},
   "outputs": [
    {
     "data": {
      "text/html": [
       "<div>\n",
       "<style scoped>\n",
       "    .dataframe tbody tr th:only-of-type {\n",
       "        vertical-align: middle;\n",
       "    }\n",
       "\n",
       "    .dataframe tbody tr th {\n",
       "        vertical-align: top;\n",
       "    }\n",
       "\n",
       "    .dataframe thead th {\n",
       "        text-align: right;\n",
       "    }\n",
       "</style>\n",
       "<table border=\"1\" class=\"dataframe\">\n",
       "  <thead>\n",
       "    <tr style=\"text-align: right;\">\n",
       "      <th></th>\n",
       "      <th>count</th>\n",
       "      <th>mean</th>\n",
       "      <th>std</th>\n",
       "      <th>min</th>\n",
       "      <th>25%</th>\n",
       "      <th>50%</th>\n",
       "      <th>75%</th>\n",
       "      <th>max</th>\n",
       "    </tr>\n",
       "  </thead>\n",
       "  <tbody>\n",
       "    <tr>\n",
       "      <th>Relative humidity (%)</th>\n",
       "      <td>31.0</td>\n",
       "      <td>52.470968</td>\n",
       "      <td>16.479972</td>\n",
       "      <td>28.0</td>\n",
       "      <td>37.2</td>\n",
       "      <td>56.0</td>\n",
       "      <td>70.0</td>\n",
       "      <td>77.0</td>\n",
       "    </tr>\n",
       "    <tr>\n",
       "      <th>type</th>\n",
       "      <td>31.0</td>\n",
       "      <td>0.516129</td>\n",
       "      <td>0.508001</td>\n",
       "      <td>0.0</td>\n",
       "      <td>0.0</td>\n",
       "      <td>1.0</td>\n",
       "      <td>1.0</td>\n",
       "      <td>1.0</td>\n",
       "    </tr>\n",
       "    <tr>\n",
       "      <th>Evaporation (% wt)</th>\n",
       "      <td>31.0</td>\n",
       "      <td>8.022581</td>\n",
       "      <td>2.461667</td>\n",
       "      <td>4.0</td>\n",
       "      <td>6.0</td>\n",
       "      <td>8.0</td>\n",
       "      <td>9.3</td>\n",
       "      <td>13.0</td>\n",
       "    </tr>\n",
       "  </tbody>\n",
       "</table>\n",
       "</div>"
      ],
      "text/plain": [
       "                       count       mean        std   min   25%   50%   75%  \\\n",
       "Relative humidity (%)   31.0  52.470968  16.479972  28.0  37.2  56.0  70.0   \n",
       "type                    31.0   0.516129   0.508001   0.0   0.0   1.0   1.0   \n",
       "Evaporation (% wt)      31.0   8.022581   2.461667   4.0   6.0   8.0   9.3   \n",
       "\n",
       "                        max  \n",
       "Relative humidity (%)  77.0  \n",
       "type                    1.0  \n",
       "Evaporation (% wt)     13.0  "
      ]
     },
     "execution_count": 258,
     "metadata": {},
     "output_type": "execute_result"
    }
   ],
   "source": [
    "df.describe().T"
   ]
  },
  {
   "cell_type": "code",
   "execution_count": 259,
   "metadata": {},
   "outputs": [
    {
     "name": "stdout",
     "output_type": "stream",
     "text": [
      "<class 'pandas.core.frame.DataFrame'>\n",
      "RangeIndex: 31 entries, 0 to 30\n",
      "Data columns (total 3 columns):\n",
      " #   Column                 Non-Null Count  Dtype  \n",
      "---  ------                 --------------  -----  \n",
      " 0   Relative humidity (%)  31 non-null     float64\n",
      " 1   type                   31 non-null     int64  \n",
      " 2   Evaporation (% wt)     31 non-null     float64\n",
      "dtypes: float64(2), int64(1)\n",
      "memory usage: 876.0 bytes\n"
     ]
    }
   ],
   "source": [
    "df.info()"
   ]
  },
  {
   "cell_type": "code",
   "execution_count": 260,
   "metadata": {},
   "outputs": [
    {
     "data": {
      "text/plain": [
       "<matplotlib.collections.PathCollection at 0x295f0ae90>"
      ]
     },
     "execution_count": 260,
     "metadata": {},
     "output_type": "execute_result"
    },
    {
     "data": {
      "image/png": "[encoded data removed]",
      "text/plain": [
       "<Figure size 640x480 with 1 Axes>"
      ]
     },
     "metadata": {},
     "output_type": "display_data"
    }
   ],
   "source": [
    "splitA = df[df['type'] == 1] # 1 is the type of paint\n",
    "splitB = df[df['type'] == 0] # 0 is the type of paint\n",
    "splitA, splitB\n",
    "\n",
    "X_A = splitA['Relative humidity (%)']\n",
    "X_B = splitB['Relative humidity (%)']\n",
    "y_A = splitA['Evaporation (% wt)']\n",
    "y_B = splitB['Evaporation (% wt)']\n",
    "\n",
    "# Scatter plot of the data\n",
    "plt.scatter(X_A, y_A, color='blue', label='Type A')\n",
    "plt.scatter(X_B, y_B, color='red', label='Type B')"
   ]
  },
  {
   "cell_type": "code",
   "execution_count": 261,
   "metadata": {},
   "outputs": [
    {
     "data": {
      "text/plain": [
       "<Axes: xlabel='Relative humidity (%)', ylabel='Evaporation (% wt)'>"
      ]
     },
     "execution_count": 261,
     "metadata": {},
     "output_type": "execute_result"
    },
    {
     "data": {
      "image/png": "[encoded data removed]",
      "text/plain": [
       "<Figure size 640x480 with 1 Axes>"
      ]
     },
     "metadata": {},
     "output_type": "display_data"
    }
   ],
   "source": [
    "test = df.sample(frac=0.4, random_state=42, replace=False)\n",
    "train = df.drop(test.index)\n",
    "\n",
    "Y = train['Evaporation (% wt)']\n",
    "X = train['Relative humidity (%)']\n",
    "\n",
    "df.insert(0, 'intercept', 1)\n",
    "\n",
    "# Create plot with ci bands\n",
    "sns.regplot(x='Relative humidity (%)', y='Evaporation (% wt)', data=train, ci=95)\n",
    "#sns.regplot(x='Relative humidity (%)', y='Evaporation (% wt)', data=train, order=95, ci=None, scatter_kws={'color':'r', 's':9}, line_kws={'color':'b'}) "
   ]
  },
  {
   "cell_type": "code",
   "execution_count": 262,
   "metadata": {},
   "outputs": [
    {
     "data": {
      "text/plain": [
       "0    10.380477\n",
       "1    -0.078101\n",
       "2     3.371559\n",
       "dtype: float64"
      ]
     },
     "execution_count": 262,
     "metadata": {},
     "output_type": "execute_result"
    }
   ],
   "source": [
    "X, Y= df.drop('Evaporation (% wt)', axis='columns'), df['Evaporation (% wt)']\n",
    "b = np.linalg.inv(X.T @ X) @ X.T @ Y\n",
    "\n",
    "b\n",
    "\n"
   ]
  },
  {
   "cell_type": "code",
   "execution_count": 263,
   "metadata": {},
   "outputs": [
    {
     "data": {
      "text/plain": [
       "0.8589742783160937"
      ]
     },
     "execution_count": 263,
     "metadata": {},
     "output_type": "execute_result"
    }
   ],
   "source": [
    "# Fit the model\n",
    "model = LinearRegression()\n",
    "model.fit(X, Y)\n",
    "model.score(X, Y) # R^2\n"
   ]
  },
  {
   "cell_type": "code",
   "execution_count": 264,
   "metadata": {},
   "outputs": [
    {
     "data": {
      "text/plain": [
       "1.2307692354915358e-12"
      ]
     },
     "execution_count": 264,
     "metadata": {},
     "output_type": "execute_result"
    }
   ],
   "source": [
    "X = X.to_numpy()\n",
    "Y = Y.to_numpy()\n",
    "v = len(b)-1 # number of variables\n",
    "n = len(Y)\n",
    "SSE = np.sum(np.square(Y - (X @ b)))\n",
    "var = SSE/(n-v-1)\n",
    "S = np.sqrt(var)\n",
    "\n",
    "# Regression sum of squares, total variance\n",
    "SSR = np.sum(b*(X.T @ Y)) - (np.square(np.sum(Y))/n)\n",
    "Syy = np.sum(np.square(Y)) - (np.square(np.sum(Y))/n)\n",
    "\n",
    "# Significant regression test, test rejects for large values\n",
    "sig_statistic = (SSR/v)/var\n",
    "\n",
    "# P score for H0 in significance test is very close to 0,\n",
    "# -- we reject the hypothesis that no variable is relevant\n",
    "p_sig = stats.f.sf(sig_statistic, v, n-v-1)\n",
    "\n",
    "p_sig\n"
   ]
  },
  {
   "cell_type": "code",
   "execution_count": 265,
   "metadata": {},
   "outputs": [
    {
     "data": {
      "text/plain": [
       "2.0909772235955126e-16"
      ]
     },
     "execution_count": 265,
     "metadata": {},
     "output_type": "execute_result"
    }
   ],
   "source": [
    "# calcutate the significance of the model\n",
    "n = len(Y)\n",
    "p = model.rank_\n",
    "F = (SST - SSE) / (SSE / (n - p - 1))\n",
    "\n",
    "# Calculate the p-value\n",
    "p_value =  stats.f.sf(F, p, n - p - 1)\n",
    "p_value"
   ]
  }
 ],
 "metadata": {
  "kernelspec": {
   "display_name": "ML_Valentin-pyoAUsqH",
   "language": "python",
   "name": "python3"
  },
  "language_info": {
   "codemirror_mode": {
    "name": "ipython",
    "version": 3
   },
   "file_extension": ".py",
   "mimetype": "text/x-python",
   "name": "python",
   "nbconvert_exporter": "python",
   "pygments_lexer": "ipython3",
   "version": "3.11.5"
  }
 },
 "nbformat": 4,
 "nbformat_minor": 2
}
